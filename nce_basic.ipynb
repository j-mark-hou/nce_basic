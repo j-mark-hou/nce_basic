{
 "cells": [
  {
   "cell_type": "code",
   "execution_count": 1,
   "metadata": {
    "collapsed": true
   },
   "outputs": [],
   "source": [
    "import numpy as np\n",
    "import pandas as pd\n",
    "import matplotlib.pyplot as plt\n",
    "from sklearn.linear_model import LogisticRegression\n",
    "%matplotlib inline"
   ]
  },
  {
   "cell_type": "code",
   "execution_count": 2,
   "metadata": {
    "collapsed": true
   },
   "outputs": [],
   "source": [
    "# 0. define the paramters of the exercise we'll do here\n",
    "WN = 10000 # number of words in our vocabulary\n",
    "N = 20000 # number of real data observations we have\n",
    "#dataframe with information on the various features\n",
    "feat_info = pd.DataFrame({\n",
    "    'cols':  ['at_most_5_letters', 'ends_with_y', 'repeat_3_letters'],  # the feature columns\n",
    "    'probs': [.5, .3, .2], # how likely each feature is to show up\n",
    "    'coefs': [0, -1, 1] # how much each coef affects the probability of usage\n",
    "}).set_index('cols')"
   ]
  },
  {
   "cell_type": "code",
   "execution_count": 3,
   "metadata": {
    "collapsed": true
   },
   "outputs": [],
   "source": [
    "# 1. define the words.  each row is a word.\n",
    "# randomly generate words.  features are assumed IID with probability feat_probs\n",
    "words_df = pd.DataFrame({c:np.random.binomial(1,feat_info.loc[c,'probs'], size=WN)\n",
    "                          for c in feat_info.index})\n",
    "# generate the score of each word.  this is where the feat_coefs comes in\n",
    "words_df['p'] = np.exp(pd.DataFrame({c:feat_info.loc[c,'coefs']*words_df[c] \n",
    "                                        for c in feat_info.index}).sum(axis=1))\n",
    "words_df['p'] /= words_df['p'].sum()"
   ]
  },
  {
   "cell_type": "code",
   "execution_count": 4,
   "metadata": {
    "collapsed": true
   },
   "outputs": [],
   "source": [
    "# 2. the real data\n",
    "N_real = N # number of real data points to draw from true distribution\n",
    "words_df['obs_real'] = np.random.multinomial(N_real, words_df['p'])"
   ]
  },
  {
   "cell_type": "code",
   "execution_count": 5,
   "metadata": {
    "collapsed": true
   },
   "outputs": [],
   "source": [
    "# 3. generate fake data\n",
    "nu = 1 # multiplier for how many observations of fake data we'll generate relative to N\n",
    "N_fake = int(N*nu) # number of fake data points to draw from fake distribution (=uniform)\n",
    "fake_dist = np.array([1/WN]*WN)\n",
    "words_df['obs_fake'] = np.random.multinomial(N_fake, fake_dist)"
   ]
  },
  {
   "cell_type": "code",
   "execution_count": 6,
   "metadata": {
    "collapsed": true
   },
   "outputs": [],
   "source": [
    "# 4. get everything into a format for logistic regression\n",
    "#  we're going to combine the real and fake data\n",
    "feat_cols = ['at_most_5_letters', 'ends_with_y', 'repeat_3_letters']\n",
    "all_data = pd.concat([words_df[feat_cols+['obs_real']].rename(columns={'obs_real':'obs'}).assign(is_real=1),\n",
    "                      words_df[feat_cols+['obs_fake']].rename(columns={'obs_fake':'obs'}).assign(is_real=0)\n",
    "                     ])"
   ]
  },
  {
   "cell_type": "code",
   "execution_count": 7,
   "metadata": {},
   "outputs": [
    {
     "data": {
      "text/plain": [
       "LogisticRegression(C=10000, class_weight=None, dual=False, fit_intercept=True,\n",
       "          intercept_scaling=1, max_iter=100, multi_class='ovr', n_jobs=1,\n",
       "          penalty='l2', random_state=None, solver='liblinear', tol=0.0001,\n",
       "          verbose=0, warm_start=False)"
      ]
     },
     "execution_count": 7,
     "metadata": {},
     "output_type": "execute_result"
    }
   ],
   "source": [
    "# 5. train a model to distinguish between the real and the fake data\n",
    "lm = LogisticRegression(C=10000) # no regularization\n",
    "lm.fit(all_data[feat_cols], all_data['is_real'], sample_weight = all_data['obs'])\n",
    "# print(lm.intercept_, lm.coef_)"
   ]
  },
  {
   "cell_type": "code",
   "execution_count": 8,
   "metadata": {},
   "outputs": [
    {
     "data": {
      "text/html": [
       "<div>\n",
       "<style>\n",
       "    .dataframe thead tr:only-child th {\n",
       "        text-align: right;\n",
       "    }\n",
       "\n",
       "    .dataframe thead th {\n",
       "        text-align: left;\n",
       "    }\n",
       "\n",
       "    .dataframe tbody tr th {\n",
       "        vertical-align: top;\n",
       "    }\n",
       "</style>\n",
       "<table border=\"1\" class=\"dataframe\">\n",
       "  <thead>\n",
       "    <tr style=\"text-align: right;\">\n",
       "      <th></th>\n",
       "      <th>coefs</th>\n",
       "      <th>coefs_estimated</th>\n",
       "    </tr>\n",
       "    <tr>\n",
       "      <th>cols</th>\n",
       "      <th></th>\n",
       "      <th></th>\n",
       "    </tr>\n",
       "  </thead>\n",
       "  <tbody>\n",
       "    <tr>\n",
       "      <th>at_most_5_letters</th>\n",
       "      <td>0</td>\n",
       "      <td>-0.018022</td>\n",
       "    </tr>\n",
       "    <tr>\n",
       "      <th>ends_with_y</th>\n",
       "      <td>-1</td>\n",
       "      <td>-0.997093</td>\n",
       "    </tr>\n",
       "    <tr>\n",
       "      <th>repeat_3_letters</th>\n",
       "      <td>1</td>\n",
       "      <td>0.981128</td>\n",
       "    </tr>\n",
       "  </tbody>\n",
       "</table>\n",
       "</div>"
      ],
      "text/plain": [
       "                   coefs  coefs_estimated\n",
       "cols                                     \n",
       "at_most_5_letters      0        -0.018022\n",
       "ends_with_y           -1        -0.997093\n",
       "repeat_3_letters       1         0.981128"
      ]
     },
     "execution_count": 8,
     "metadata": {},
     "output_type": "execute_result"
    }
   ],
   "source": [
    "# 6. print the estimated coefs, compare with the real coefs.  they should be close\n",
    "feat_info['coefs_estimated'] = lm.coef_[0]\n",
    "feat_info[['coefs', 'coefs_estimated']]"
   ]
  },
  {
   "cell_type": "code",
   "execution_count": 9,
   "metadata": {
    "collapsed": true
   },
   "outputs": [],
   "source": [
    "# 7. generate the estimated probabilities for each word\n",
    "words_df['p_estimated'] = lm.predict_proba(words_df[feat_cols])[:,1] \n",
    "words_df['p_estimated'] = words_df['p_estimated']/(1-words_df['p_estimated']) * nu * fake_dist"
   ]
  },
  {
   "cell_type": "code",
   "execution_count": 10,
   "metadata": {},
   "outputs": [
    {
     "name": "stdout",
     "output_type": "stream",
     "text": [
      "sum of true probabilities: 1.000\n",
      "sum of estimated probabilities: 1.001\n",
      "sum of abs(p - p_estimated): 9.8e-03\n"
     ]
    },
    {
     "data": {
      "image/png": "[encoded data removed]",
      "text/plain": [
       "<matplotlib.figure.Figure at 0x7f75b22be2e8>"
      ]
     },
     "metadata": {},
     "output_type": "display_data"
    }
   ],
   "source": [
    "# 8. print some statistics\n",
    "words_df['err'] = words_df['p']-words_df['p_estimated']\n",
    "words_df['err'].hist()\n",
    "plt.title(\"distribution of (p - p_estimated)\")\n",
    "print('sum of true probabilities: {:.3f}'.format(words_df['p'].sum()))\n",
    "print('sum of estimated probabilities: {:.3f}'.format(words_df['p_estimated'].sum()))\n",
    "print('sum of abs(p - p_estimated): {:.1e}'.format(np.abs(words_df['err']).sum()))"
   ]
  }
 ],
 "metadata": {
  "kernelspec": {
   "display_name": "Python 3",
   "language": "python",
   "name": "python3"
  },
  "language_info": {
   "codemirror_mode": {
    "name": "ipython",
    "version": 3
   },
   "file_extension": ".py",
   "mimetype": "text/x-python",
   "name": "python",
   "nbconvert_exporter": "python",
   "pygments_lexer": "ipython3",
   "version": "3.6.0"
  }
 },
 "nbformat": 4,
 "nbformat_minor": 2
}
